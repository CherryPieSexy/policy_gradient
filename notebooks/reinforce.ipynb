{
 "cells": [
  {
   "cell_type": "code",
   "execution_count": 1,
   "metadata": {},
   "outputs": [],
   "source": [
    "import gym\n",
    "import torch\n",
    "import torch.nn as nn\n",
    "import torch.nn.functional as F\n",
    "from time import sleep\n",
    "from tqdm import tqdm_notebook"
   ]
  },
  {
   "cell_type": "code",
   "execution_count": 2,
   "metadata": {},
   "outputs": [],
   "source": [
    "environment = gym.make('CartPole-v0')\n",
    "environment = environment.env\n",
    "gamma = 0.99"
   ]
  },
  {
   "cell_type": "code",
   "execution_count": 3,
   "metadata": {},
   "outputs": [],
   "source": [
    "# net returns log_p\n",
    "net = nn.Sequential(\n",
    "    nn.Linear(4, 64), nn.ReLU(True),\n",
    "    nn.Linear(64, 128), nn.ReLU(True),\n",
    "    nn.Linear(128, 2)\n",
    ")\n",
    "optimizer = torch.optim.Adam(net.parameters(), lr=1e-3)"
   ]
  },
  {
   "cell_type": "code",
   "execution_count": 4,
   "metadata": {},
   "outputs": [],
   "source": [
    "def act(observation):\n",
    "    logit = net(torch.tensor(observation, dtype=torch.float32))\n",
    "    p = F.softmax(logit, dim=-1)\n",
    "    log_p = torch.log(p)\n",
    "    action = torch.multinomial(p, 1).item()\n",
    "    log_p_for_action = log_p[action]\n",
    "    entropy = -(p * log_p).sum()\n",
    "    return action, log_p_for_action, entropy"
   ]
  },
  {
   "cell_type": "code",
   "execution_count": 5,
   "metadata": {},
   "outputs": [],
   "source": [
    "def play_episode(render=False):\n",
    "    observation = environment.reset()\n",
    "    log_p_for_actions, entropy_for_actions, rewards = [], [], []\n",
    "    done = False\n",
    "    while not done:\n",
    "        action, log_p_for_action, entropy_for_action = act(observation)\n",
    "        observation, reward, done, _ = environment.step(action)\n",
    "        if render:\n",
    "            environment.render()\n",
    "            sleep(0.1)\n",
    "\n",
    "        log_p_for_actions.append(log_p_for_action)\n",
    "        entropy_for_actions.append(entropy_for_action)\n",
    "        rewards.append(reward)\n",
    "    return log_p_for_actions, entropy_for_actions, rewards"
   ]
  },
  {
   "cell_type": "code",
   "execution_count": 6,
   "metadata": {},
   "outputs": [],
   "source": [
    "def calculate_discounted_reward(reward):\n",
    "    discounter_reward = [reward[-1]]\n",
    "    for r in reversed(reward[:-1]):\n",
    "        discounter_reward.append(r + gamma * discounter_reward[-1])\n",
    "    return discounter_reward[::-1]"
   ]
  },
  {
   "cell_type": "code",
   "execution_count": 7,
   "metadata": {},
   "outputs": [],
   "source": [
    "def training_step():\n",
    "    optimizer.zero_grad()\n",
    "    log_p_for_actions, entropy_for_actions, rewards = play_episode()\n",
    "    discounter_reward = calculate_discounted_reward(rewards)\n",
    "    reinforce_obj = (torch.stack(log_p_for_actions) * torch.tensor(discounter_reward)).mean()\n",
    "    entropy_reg = torch.stack(entropy_for_actions).mean()\n",
    "    loss = -reinforce_obj - 0.01 * entropy_reg\n",
    "    loss.backward()\n",
    "    optimizer.step()\n",
    "    return loss.item(), discounter_reward[0]"
   ]
  },
  {
   "cell_type": "code",
   "execution_count": 8,
   "metadata": {},
   "outputs": [
    {
     "data": {
      "application/vnd.jupyter.widget-view+json": {
       "model_id": "62fa317937844e8394ea8ee02a0b9c1d",
       "version_major": 2,
       "version_minor": 0
      },
      "text/plain": [
       "HBox(children=(IntProgress(value=0, max=1000), HTML(value='')))"
      ]
     },
     "metadata": {},
     "output_type": "display_data"
    },
    {
     "name": "stdout",
     "output_type": "stream",
     "text": [
      "\n"
     ]
    }
   ],
   "source": [
    "# this is actually number of episodes to play\n",
    "for _ in tqdm_notebook(range(1000)):\n",
    "    training_step()"
   ]
  },
  {
   "cell_type": "code",
   "execution_count": 9,
   "metadata": {},
   "outputs": [
    {
     "data": {
      "text/plain": [
       "122.0"
      ]
     },
     "execution_count": 9,
     "metadata": {},
     "output_type": "execute_result"
    }
   ],
   "source": [
    "_, _, r = play_episode()\n",
    "sum(r)"
   ]
  },
  {
   "cell_type": "code",
   "execution_count": null,
   "metadata": {},
   "outputs": [],
   "source": []
  }
 ],
 "metadata": {
  "kernelspec": {
   "display_name": "Python 3",
   "language": "python",
   "name": "python3"
  },
  "language_info": {
   "codemirror_mode": {
    "name": "ipython",
    "version": 3
   },
   "file_extension": ".py",
   "mimetype": "text/x-python",
   "name": "python",
   "nbconvert_exporter": "python",
   "pygments_lexer": "ipython3",
   "version": "3.6.5"
  }
 },
 "nbformat": 4,
 "nbformat_minor": 2
}
