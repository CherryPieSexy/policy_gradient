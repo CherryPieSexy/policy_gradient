{
 "cells": [
  {
   "cell_type": "code",
   "execution_count": 1,
   "metadata": {},
   "outputs": [],
   "source": [
    "import gym\n",
    "import torch\n",
    "import torch.nn as nn\n",
    "import torch.nn.functional as F\n",
    "from time import sleep\n",
    "from tqdm import tqdm_notebook"
   ]
  },
  {
   "cell_type": "code",
   "execution_count": 2,
   "metadata": {},
   "outputs": [],
   "source": [
    "class Net(nn.Module):\n",
    "    def __init__(self):\n",
    "        super(Net, self).__init__()\n",
    "        self.fe = nn.Sequential(\n",
    "            nn.Linear(4, 64), nn.ReLU(True),\n",
    "            nn.Linear(64, 128), nn.ReLU(True)\n",
    "        )\n",
    "        self.policy = nn.Linear(128, 2)\n",
    "        self.value = nn.Linear(128, 1)\n",
    "\n",
    "    def forward(self, observation):\n",
    "        f = self.fe(observation)\n",
    "        return self.policy(f), self.value(f)\n",
    "\n",
    "net = Net()\n",
    "optimizer = torch.optim.Adam(net.parameters(), lr=1e-3)"
   ]
  },
  {
   "cell_type": "code",
   "execution_count": 3,
   "metadata": {},
   "outputs": [],
   "source": [
    "def act(observation):\n",
    "    with torch.no_grad():\n",
    "        logit, _ = net(torch.tensor(observation, dtype=torch.float32))\n",
    "    p = F.softmax(logit, dim=-1)\n",
    "    log_p = torch.log(p)\n",
    "    action = torch.multinomial(p, 1)\n",
    "    return action[:, 0].cpu().numpy()"
   ]
  },
  {
   "cell_type": "code",
   "execution_count": 4,
   "metadata": {},
   "outputs": [],
   "source": [
    "def make_env():\n",
    "    env = gym.make('CartPole-v0')\n",
    "    return env\n",
    "\n",
    "class EnvPool:\n",
    "    def __init__(self, n_envs):\n",
    "        self.environments = [make_env() for _ in range(n_envs)]\n",
    "\n",
    "    def reset(self):\n",
    "        return [env.reset() for env in self.environments]\n",
    "\n",
    "    def step(self, actions):\n",
    "        results = [env.step(a) for env, a in zip(self.environments, actions)]\n",
    "        observation, reward, done, _ = map(list, zip(*results))\n",
    "\n",
    "        for i in range(len(self.environments)):\n",
    "            if done[i]:\n",
    "                observation[i] = self.environments[i].reset()\n",
    "\n",
    "        return observation, reward, done"
   ]
  },
  {
   "cell_type": "code",
   "execution_count": 5,
   "metadata": {},
   "outputs": [],
   "source": [
    "env_pool = EnvPool(20)\n",
    "gamma = 0.99"
   ]
  },
  {
   "cell_type": "code",
   "execution_count": 6,
   "metadata": {},
   "outputs": [
    {
     "data": {
      "application/vnd.jupyter.widget-view+json": {
       "model_id": "42cf5c72a8c54c01a1befe3e45c63f75",
       "version_major": 2,
       "version_minor": 0
      },
      "text/plain": [
       "HBox(children=(IntProgress(value=0, max=5000), HTML(value='')))"
      ]
     },
     "metadata": {},
     "output_type": "display_data"
    },
    {
     "name": "stdout",
     "output_type": "stream",
     "text": [
      "\n"
     ]
    }
   ],
   "source": [
    "# Q(s, a) = V(s) + A(s, a)\n",
    "# A(s, a) = Q(s, a) - V(s) = r(s, a) + gamma * V(s') - V(s)\n",
    "# V(s) = E_a [r(s, a) + gamma * V(s')]\n",
    "\n",
    "observations = env_pool.reset()\n",
    "for step in tqdm_notebook(range(5000)):\n",
    "    actions = act(observations)\n",
    "    logits, value = net(torch.tensor(observations, dtype=torch.float32))\n",
    "    p = F.softmax(logits, dim=-1)\n",
    "    log_p = torch.log(p)\n",
    "    log_p_for_actions = log_p[torch.arange(20), actions]\n",
    "    observations, rewards, done = env_pool.step(actions)\n",
    "    rewards = torch.tensor(rewards, dtype=torch.float32)\n",
    "    not_done = 1.0 - torch.tensor(done, dtype=torch.float32)\n",
    "    \n",
    "    with torch.no_grad():\n",
    "        _, next_value = net(torch.tensor(observations, dtype=torch.float32))\n",
    "\n",
    "    advantage = rewards + gamma * not_done * next_value[:, 0] - value[:, 0]\n",
    "    policy_loss = (log_p_for_actions * advantage.detach()).mean()\n",
    "    value_loss = (advantage ** 2).mean()\n",
    "    entropy = -(p * log_p).sum(-1).mean()\n",
    "    \n",
    "    optimizer.zero_grad()\n",
    "    loss = value_loss - policy_loss - 0.01 * entropy\n",
    "    loss.backward()\n",
    "    optimizer.step()"
   ]
  },
  {
   "cell_type": "code",
   "execution_count": 7,
   "metadata": {},
   "outputs": [],
   "source": [
    "environment = gym.make('CartPole-v0')\n",
    "environment = environment.env\n",
    "\n",
    "def play_episode(render=False):\n",
    "    observation = environment.reset()\n",
    "    rewards = []\n",
    "    done = False\n",
    "    while not done:\n",
    "        action = act([observation])\n",
    "        observation, reward, done, _ = environment.step(action[0])\n",
    "        if render:\n",
    "            environment.render()\n",
    "            sleep(0.01)\n",
    "\n",
    "        rewards.append(reward)\n",
    "    return rewards"
   ]
  },
  {
   "cell_type": "code",
   "execution_count": 8,
   "metadata": {},
   "outputs": [
    {
     "name": "stdout",
     "output_type": "stream",
     "text": [
      "215.0\n"
     ]
    }
   ],
   "source": [
    "r = play_episode(True)\n",
    "print(sum(r))"
   ]
  },
  {
   "cell_type": "code",
   "execution_count": null,
   "metadata": {},
   "outputs": [],
   "source": []
  }
 ],
 "metadata": {
  "kernelspec": {
   "display_name": "Python 3",
   "language": "python",
   "name": "python3"
  },
  "language_info": {
   "codemirror_mode": {
    "name": "ipython",
    "version": 3
   },
   "file_extension": ".py",
   "mimetype": "text/x-python",
   "name": "python",
   "nbconvert_exporter": "python",
   "pygments_lexer": "ipython3",
   "version": "3.6.5"
  }
 },
 "nbformat": 4,
 "nbformat_minor": 2
}
